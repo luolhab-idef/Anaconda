{
 "cells": [
  {
   "cell_type": "code",
   "execution_count": 1,
   "id": "initial_id",
   "metadata": {
    "collapsed": true,
    "ExecuteTime": {
     "end_time": "2024-06-26T13:30:35.546519200Z",
     "start_time": "2024-06-26T13:30:35.145516800Z"
    }
   },
   "outputs": [],
   "source": [
    "# Importing Necessary Libraries\n",
    "import pandas as pd\n",
    "import matplotlib.pyplot as plt\n",
    "import numpy as np\n",
    "import seaborn as sns\n",
    "\n",
    "%matplotlib inline\n",
    "\n",
    "import time\n",
    "from sklearn.ensemble import IsolationForest\n",
    "from statsmodels.graphics.tsaplots import plot_acf\n",
    "from statsmodels.graphics.tsaplots import plot_pacf\n",
    "from pandas.plotting import autocorrelation_plot\n",
    "from statsmodels.tsa.seasonal import seasonal_decompose\n",
    "\n",
    "\n",
    "import warnings\n",
    "warnings.filterwarnings(\"ignore\")"
   ]
  },
  {
   "cell_type": "code",
   "execution_count": 2,
   "outputs": [],
   "source": [
    "o_data = pd.read_csv('HomeC14.csv')\n",
    "data = o_data.copy()"
   ],
   "metadata": {
    "collapsed": false,
    "ExecuteTime": {
     "end_time": "2024-06-26T13:31:00.757958900Z",
     "start_time": "2024-06-26T13:30:59.559078800Z"
    }
   },
   "id": "39af50e2a6919c93"
  },
  {
   "cell_type": "code",
   "execution_count": 3,
   "outputs": [],
   "source": [
    "data.columns = [col.replace(' [kW]', '') for col in data.columns]\n",
    "data['Furnace'] = data[['Furnace 1', 'Furnace 2']].sum(axis=1)\n",
    "data['Kitchen'] = data[['Kitchen', 'Kitchenette', ]].sum(axis=1)\n",
    "data.drop(['Furnace 1', 'Furnace 2', 'Kitchenette'], axis=1, inplace=True)\n",
    "data['icon'].nunique()\n",
    "data['summary'].unique()\n",
    "data.isna().sum()\n",
    "data[data.isnull().any(axis=1)]\n",
    "data = data.drop(index=503910,axis=0)\n",
    "data.cloudCover.dtype\n",
    "data['cloudCover'].unique()\n",
    "data['cloudCover'].replace('cloudCover', method='bfill', inplace=True)\n",
    "data['cloudCover'] = data['cloudCover'].astype('float')\n",
    "data['time'] = pd.to_datetime(data['time'], unit='s')\n",
    "data['time'] = pd.DatetimeIndex(pd.date_range('2016-01-01 05:00', periods=len(data),  freq='min'))\n",
    "data['year'] = data['time'].apply(lambda x:x.year)\n",
    "data['month'] = data['time'].apply(lambda x:x.month)\n",
    "data['day'] = data['time'].apply(lambda x:x.day)\n",
    "data['hour'] = data['time'].apply(lambda x:x.hour)\n",
    "data['minute'] = data['time'].apply(lambda x:x.minute)"
   ],
   "metadata": {
    "collapsed": false,
    "ExecuteTime": {
     "end_time": "2024-06-26T13:36:06.197230900Z",
     "start_time": "2024-06-26T13:36:02.226692200Z"
    }
   },
   "id": "98e7f36f7e05b1eb"
  },
  {
   "cell_type": "code",
   "execution_count": 4,
   "outputs": [],
   "source": [
    "def hours_to_timing(hour):\n",
    "    if hour in [22, 23, 0, 1, 2, 3]:\n",
    "        timing = 'Night'\n",
    "    elif hour in range(4, 12):\n",
    "        timing = 'Morning'\n",
    "    elif hour in range(12, 17):\n",
    "        timing = 'Afternoon'\n",
    "    elif hour in range(17, 22):\n",
    "        timing = 'Evening'\n",
    "    else:\n",
    "        timing = 'X'\n",
    "    return timing"
   ],
   "metadata": {
    "collapsed": false,
    "ExecuteTime": {
     "end_time": "2024-06-26T13:36:15.308260300Z",
     "start_time": "2024-06-26T13:36:15.275261600Z"
    }
   },
   "id": "6e1d12d6bfda77ca"
  },
  {
   "cell_type": "code",
   "execution_count": 5,
   "outputs": [],
   "source": [
    "data['timing'] = data['hour'].apply(hours_to_timing)"
   ],
   "metadata": {
    "collapsed": false,
    "ExecuteTime": {
     "end_time": "2024-06-26T13:36:51.967113600Z",
     "start_time": "2024-06-26T13:36:51.796788200Z"
    }
   },
   "id": "c802747f42090b4d"
  },
  {
   "cell_type": "code",
   "execution_count": 6,
   "outputs": [],
   "source": [
    "def Season(month):\n",
    "    if month in [1,2,3]:\n",
    "        season = 'Winter'\n",
    "    elif month in [4,5,6]:\n",
    "        season = 'Spring'\n",
    "    elif month in [7,8,9]:\n",
    "        season = 'Summer'\n",
    "    elif month in [10,11,12]:\n",
    "        season = 'Autumn'            \n",
    "    else:\n",
    "        season='X'\n",
    "            \n",
    "    return season"
   ],
   "metadata": {
    "collapsed": false,
    "ExecuteTime": {
     "end_time": "2024-06-26T13:37:07.457187Z",
     "start_time": "2024-06-26T13:37:07.424712Z"
    }
   },
   "id": "f2f6a1a9c066ad5f"
  },
  {
   "cell_type": "code",
   "execution_count": 7,
   "outputs": [],
   "source": [
    "data['season'] = data['month'].apply(Season)"
   ],
   "metadata": {
    "collapsed": false,
    "ExecuteTime": {
     "end_time": "2024-06-26T13:37:19.931682500Z",
     "start_time": "2024-06-26T13:37:19.844528500Z"
    }
   },
   "id": "5ad2e5e570a7c82f"
  },
  {
   "cell_type": "code",
   "execution_count": 9,
   "outputs": [],
   "source": [
    "new_csv_file = 'EXTRACT.csv'\n",
    "data.to_csv(new_csv_file, index=False)"
   ],
   "metadata": {
    "collapsed": false,
    "ExecuteTime": {
     "end_time": "2024-06-26T13:46:54.725318700Z",
     "start_time": "2024-06-26T13:46:48.163743800Z"
    }
   },
   "id": "6560c4154c9eb0a2"
  },
  {
   "cell_type": "code",
   "execution_count": 8,
   "outputs": [],
   "source": [
    "q=np.where(data['use'] == data['House overall'])\n",
    "r=np.where(data['gen'] == data['Solar'])\n",
    "data = data.drop(['gen','use'],axis=1)\n",
    "categorical_features=[features for features in data.columns if data[features].dtypes==\"O\" and features not in ['timing']]\n",
    "numerical=[features for features in data.columns if data[features].dtypes!=\"O\" and features not in ['time','year', 'month','day', 'hour', 'minute']]\n",
    "object_nan = [feature for feature in data.columns if data[feature].isnull().sum()>1 and data[feature].dtypes=='O']\n",
    "numerical_nan = [feature for feature in data.columns if data[feature].isnull().sum()>1 and data[feature].dtypes!='O']\n",
    "energy_data = data[['House overall', 'Dishwasher', 'Home office',\n",
    "       'Fridge',  'Garage door',  'Well', 'Microwave',\n",
    "       'Living room', 'Furnace', 'Kitchen']]\n",
    "weather_data = data[['Solar','temperature', 'humidity', 'visibility', 'apparentTemperature',\n",
    "       'pressure', 'windSpeed', 'cloudCover', 'windBearing', 'precipIntensity',\n",
    "       'dewPoint', 'precipProbability']]\n",
    "energy_data.index = pd.to_datetime(energy_data.index)\n",
    "weather_data.index = pd.to_datetime(weather_data.index)\n",
    "energy_data = energy_data.set_index(data['time'])\n",
    "weather_data = weather_data.set_index(data['time'])\n",
    "energy_per_day = energy_data.resample('D').sum()\n",
    "energy_per_week = energy_data.resample('W').sum()\n",
    "energy_per_month = energy_data.resample('M').sum()\n",
    "energy_per_hour = energy_data.resample('H').sum()\n",
    "weather_per_day = weather_data.resample('D').mean()\n",
    "weather_per_month = weather_data.resample('M').mean()\n",
    "weather_per_week = weather_data.resample('W').mean()\n",
    "weather_per_hour = weather_data.resample('H').mean()"
   ],
   "metadata": {
    "collapsed": false,
    "ExecuteTime": {
     "end_time": "2024-06-26T13:41:47.826700500Z",
     "start_time": "2024-06-26T13:41:47.031874600Z"
    }
   },
   "id": "4396fc0254abf5c6"
  },
  {
   "cell_type": "code",
   "execution_count": null,
   "outputs": [],
   "source": [],
   "metadata": {
    "collapsed": false
   },
   "id": "1f737c262ea2e767"
  }
 ],
 "metadata": {
  "kernelspec": {
   "display_name": "Python 3",
   "language": "python",
   "name": "python3"
  },
  "language_info": {
   "codemirror_mode": {
    "name": "ipython",
    "version": 2
   },
   "file_extension": ".py",
   "mimetype": "text/x-python",
   "name": "python",
   "nbconvert_exporter": "python",
   "pygments_lexer": "ipython2",
   "version": "2.7.6"
  }
 },
 "nbformat": 4,
 "nbformat_minor": 5
}
